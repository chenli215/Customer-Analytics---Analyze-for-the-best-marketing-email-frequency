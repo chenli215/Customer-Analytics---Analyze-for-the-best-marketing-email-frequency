{
 "cells": [
  {
   "cell_type": "markdown",
   "metadata": {},
   "source": [
    "# Pentathlon II: Testing for the best frequency"
   ]
  },
  {
   "cell_type": "code",
   "execution_count": 2,
   "metadata": {},
   "outputs": [],
   "source": [
    "# loading required python packages\n",
    "# you can add more packages as needed but *only* use packages \n",
    "# that are already part of the docker computing environment\n",
    "import numpy as np\n",
    "import pandas as pd\n",
    "import seaborn as sns"
   ]
  },
  {
   "cell_type": "markdown",
   "metadata": {},
   "source": [
    "### Question 1: Calculate the CLV over 8 weeks for each email frequency"
   ]
  },
  {
   "cell_type": "code",
   "execution_count": 3,
   "metadata": {
    "lines_to_next_cell": 2
   },
   "outputs": [],
   "source": [
    "# load data from the excel file here\n",
    "email = pd.read_excel('data/pentathlon-II.xls',header = None)\n",
    "email = email.T"
   ]
  },
  {
   "cell_type": "code",
   "execution_count": 4,
   "metadata": {},
   "outputs": [],
   "source": [
    "# create a founction to extract data of each condition from 'email'\n",
    "def select_data(i,n):\n",
    "    email_n = email.iloc[1:9,i:i+3].reset_index(drop=True).rename(columns={i:'attrition', i+1:'avg_rev_sub', i+2:'avg_rev_unsub'})\n",
    "    return(email_n)"
   ]
  },
  {
   "cell_type": "code",
   "execution_count": 5,
   "metadata": {},
   "outputs": [],
   "source": [
    "one = select_data(1,1)\n",
    "two = select_data(6,2)\n",
    "three = select_data(11,3)\n",
    "four = select_data(16,4)\n",
    "five = select_data(21,5)"
   ]
  },
  {
   "cell_type": "code",
   "execution_count": 6,
   "metadata": {},
   "outputs": [],
   "source": [
    "# list your assumptions here\n",
    "n_week = 8\n",
    "time = np.arange(1, n_week + 1)\n",
    "annual_discount_rate = 0.1 \n",
    "week_discount_rate = pow((annual_discount_rate+1), (1/52)) - 1\n",
    "good_cost = 0.6\n",
    "discount_num = np.arange(0.5,8.5,1)"
   ]
  },
  {
   "cell_type": "markdown",
   "metadata": {},
   "source": [
    "Assumption:\n",
    "\n",
    "(1) It’s assumed the beginning of week 1 is our ‘Present’. So for the churn rate, those of subscribed customers and unsubscribed customers for week 1 are 100% and 0% respectively. Also, since customers who request unsubscribe would continue to receive emails until the end of the week, the attrition rate would be changed weekly. \n",
    "\n",
    "(2) For the annual discount rate, it is assumed to be 10%. And since the payment is made during each week, it seems to be more reasonable to use half-one power(eg.:0.5, 1.5, 2.5...) when calculating the present value.\n",
    "\n",
    "[present profit = profit / ((1+week_discount_rate)^ weekly half-one power)]"
   ]
  },
  {
   "cell_type": "code",
   "execution_count": 7,
   "metadata": {},
   "outputs": [],
   "source": [
    "# calculate CLV for each of the 5 e-mail frequencies and combine the result in a dataframe\n",
    "# define a function to avoid repetitive code\n",
    "# note that the function must be defined in a cell above the code that calls the function\n",
    "# or, even better, in a python package https://www.tutorialsteacher.com/python/python-package\n",
    "\n",
    "def CLV(df, n_week, discount_num):\n",
    "    attrition = [0] * n_week \n",
    "    attrition[1:8] = df.attrition[0:7]\n",
    "    attrition = np.array(attrition)\n",
    "    avg_rev_sub = df.avg_rev_sub\n",
    "    avg_rev_unsub = df.avg_rev_unsub\n",
    "    retention_rate = (1 - attrition).cumprod()\n",
    "    rev_sub = avg_rev_sub * retention_rate\n",
    "    rev_unsub = avg_rev_unsub * (1 - retention_rate)\n",
    "    total_revenue = rev_sub + rev_unsub\n",
    "    profit = total_revenue * (1 - good_cost)\n",
    "    p_profit = profit / np.power((1+week_discount_rate), discount_num)\n",
    "    clv = p_profit.cumsum(axis=0)\n",
    "    return clv"
   ]
  },
  {
   "cell_type": "code",
   "execution_count": 8,
   "metadata": {},
   "outputs": [],
   "source": [
    "# combine the CLV data into a pandas dataframe `CLV_8weeks` \n",
    "# whith shape (8, 1)\n",
    "CLV_8weeks_1 = pd.DataFrame(CLV(one,n_week,discount_num),columns = ['CLV'])\n",
    "CLV_8weeks_2 = pd.DataFrame(CLV(two,n_week,discount_num),columns = ['CLV'])\n",
    "CLV_8weeks_3 = pd.DataFrame(CLV(three,n_week,discount_num),columns = ['CLV'])\n",
    "CLV_8weeks_4 = pd.DataFrame(CLV(four,n_week,discount_num),columns = ['CLV'])\n",
    "CLV_8weeks_5 = pd.DataFrame(CLV(five,n_week,discount_num),columns = ['CLV'])"
   ]
  },
  {
   "cell_type": "code",
   "execution_count": 9,
   "metadata": {},
   "outputs": [
    {
     "data": {
      "text/html": [
       "<div>\n",
       "<style scoped>\n",
       "    .dataframe tbody tr th:only-of-type {\n",
       "        vertical-align: middle;\n",
       "    }\n",
       "\n",
       "    .dataframe tbody tr th {\n",
       "        vertical-align: top;\n",
       "    }\n",
       "\n",
       "    .dataframe thead th {\n",
       "        text-align: right;\n",
       "    }\n",
       "</style>\n",
       "<table border=\"1\" class=\"dataframe\">\n",
       "  <thead>\n",
       "    <tr style=\"text-align: right;\">\n",
       "      <th></th>\n",
       "      <th>one_email</th>\n",
       "      <th>two_email</th>\n",
       "      <th>three_email</th>\n",
       "      <th>four_email</th>\n",
       "      <th>five_email</th>\n",
       "    </tr>\n",
       "  </thead>\n",
       "  <tbody>\n",
       "    <tr>\n",
       "      <th>Week1</th>\n",
       "      <td>0.115894</td>\n",
       "      <td>0.139872</td>\n",
       "      <td>0.147864</td>\n",
       "      <td>0.143868</td>\n",
       "      <td>0.143868</td>\n",
       "    </tr>\n",
       "    <tr>\n",
       "      <th>Week2</th>\n",
       "      <td>0.239335</td>\n",
       "      <td>0.259279</td>\n",
       "      <td>0.270128</td>\n",
       "      <td>0.277191</td>\n",
       "      <td>0.272110</td>\n",
       "    </tr>\n",
       "    <tr>\n",
       "      <th>Week3</th>\n",
       "      <td>0.358297</td>\n",
       "      <td>0.397659</td>\n",
       "      <td>0.409457</td>\n",
       "      <td>0.391682</td>\n",
       "      <td>0.385031</td>\n",
       "    </tr>\n",
       "    <tr>\n",
       "      <th>Week4</th>\n",
       "      <td>0.484524</td>\n",
       "      <td>0.550547</td>\n",
       "      <td>0.559069</td>\n",
       "      <td>0.531438</td>\n",
       "      <td>0.522659</td>\n",
       "    </tr>\n",
       "    <tr>\n",
       "      <th>Week5</th>\n",
       "      <td>0.598461</td>\n",
       "      <td>0.671557</td>\n",
       "      <td>0.682616</td>\n",
       "      <td>0.670685</td>\n",
       "      <td>0.650240</td>\n",
       "    </tr>\n",
       "    <tr>\n",
       "      <th>Week6</th>\n",
       "      <td>0.700280</td>\n",
       "      <td>0.799185</td>\n",
       "      <td>0.810303</td>\n",
       "      <td>0.787026</td>\n",
       "      <td>0.774683</td>\n",
       "    </tr>\n",
       "    <tr>\n",
       "      <th>Week7</th>\n",
       "      <td>0.805389</td>\n",
       "      <td>0.933803</td>\n",
       "      <td>0.944781</td>\n",
       "      <td>0.907076</td>\n",
       "      <td>0.888887</td>\n",
       "    </tr>\n",
       "    <tr>\n",
       "      <th>Week8</th>\n",
       "      <td>0.913969</td>\n",
       "      <td>1.063883</td>\n",
       "      <td>1.072293</td>\n",
       "      <td>1.027585</td>\n",
       "      <td>0.995609</td>\n",
       "    </tr>\n",
       "  </tbody>\n",
       "</table>\n",
       "</div>"
      ],
      "text/plain": [
       "      one_email two_email three_email four_email five_email\n",
       "Week1  0.115894  0.139872    0.147864   0.143868   0.143868\n",
       "Week2  0.239335  0.259279    0.270128   0.277191   0.272110\n",
       "Week3  0.358297  0.397659    0.409457   0.391682   0.385031\n",
       "Week4  0.484524  0.550547    0.559069   0.531438   0.522659\n",
       "Week5  0.598461  0.671557    0.682616   0.670685   0.650240\n",
       "Week6  0.700280  0.799185    0.810303   0.787026   0.774683\n",
       "Week7  0.805389  0.933803    0.944781   0.907076   0.888887\n",
       "Week8  0.913969  1.063883    1.072293   1.027585   0.995609"
      ]
     },
     "execution_count": 9,
     "metadata": {},
     "output_type": "execute_result"
    }
   ],
   "source": [
    "# create an integrated dataframe\n",
    "CLV_8weeks_all = pd.DataFrame(\n",
    "{    'one_email': CLV_8weeks_1['CLV'],\n",
    "     'two_email': CLV_8weeks_2['CLV'],\n",
    "     'three_email': CLV_8weeks_3['CLV'],\n",
    "     'four_email': CLV_8weeks_4['CLV'],\n",
    "     'five_email': CLV_8weeks_5['CLV'],\n",
    "}\n",
    ")\n",
    "CLV_8weeks_all.index = [f\"Week{x}\" for x in range(1,9)]\n",
    "CLV_8weeks_all"
   ]
  },
  {
   "cell_type": "code",
   "execution_count": 10,
   "metadata": {},
   "outputs": [
    {
     "data": {
      "text/plain": [
       "Text(0, 0.5, 'CLV per customer')"
      ]
     },
     "execution_count": 10,
     "metadata": {},
     "output_type": "execute_result"
    },
    {
     "data": {
      "image/png": "[encoded data removed]",
      "text/plain": [
       "<Figure size 432x288 with 1 Axes>"
      ]
     },
     "metadata": {
      "needs_background": "light"
     },
     "output_type": "display_data"
    }
   ],
   "source": [
    "# use seaborn to create a line chart that shows CLV over the 8 week period\n",
    "# for each of the 5 email frequencies (i.e., 1 plot with 5 lines)\n",
    "CLV_8weeks_all = CLV_8weeks_all.astype(float)\n",
    "ax =sns.lineplot(data = CLV_8weeks_all)\n",
    "ax.set_title('Graph 1:CLV with different e-mail frequency during 8 weeks',size=13)\n",
    "ax.set_ylabel('CLV per customer')"
   ]
  },
  {
   "cell_type": "markdown",
   "metadata": {},
   "source": [
    "### Question 2: What e-mail frequency should Pentathlon adopt based on the available data?"
   ]
  },
  {
   "cell_type": "markdown",
   "metadata": {},
   "source": [
    "Pentathlon should adopt a 3-email per week frequency based on the available data since it shows the highest CLV(\\$1.072 per customer) for eight weeks.\n",
    "\n",
    "Look through the data of attrition rate and average revenue, it is obvious that higher email frequency leads to higher churn rate, but higher revenue from both subscribed and unsubscribed customers. So 3-email per week frequency seems to be an ideal balance for attrition and revenue."
   ]
  },
  {
   "cell_type": "markdown",
   "metadata": {},
   "source": [
    "### Question 3: What e-mail frequency would you recommend if you considered a longer time horizon?"
   ]
  },
  {
   "cell_type": "code",
   "execution_count": 11,
   "metadata": {},
   "outputs": [
    {
     "data": {
      "text/plain": [
       "0    0.007993\n",
       "1    0.010849\n",
       "2    0.011798\n",
       "3    0.008522\n",
       "4    0.011059\n",
       "5    0.011118\n",
       "6    0.010977\n",
       "7    0.008410\n",
       "dtype: object"
      ]
     },
     "execution_count": 11,
     "metadata": {},
     "output_type": "execute_result"
    }
   ],
   "source": [
    "CLV(three,n_week,discount_num) - CLV(two,n_week,discount_num)"
   ]
  },
  {
   "cell_type": "markdown",
   "metadata": {},
   "source": [
    "Considering a longer time horizon, 2-email per week frequency should be recommended.\n",
    "\n",
    "Focus on the difference between CLV of 3-email and 2-email frequency, it tends to decrease as time goes. And it is highly possible that CLV of 2-email frequency would be greater than 3-email one. So, in a long run, it is reasonable to make a recommendation on 2-email frequency."
   ]
  },
  {
   "cell_type": "markdown",
   "metadata": {},
   "source": [
    "### Question 4: CLV over 104 weeks\n",
    "\n",
    "Calculate the CLV for each of the 5 plans after 104 weeks using the average churn and revenue numbers from `pentathlon-II-avg.csv` in the git repo. Generate a line plot to compare the five CLV curves. Are your results consistent with your answer to question 3? Why (or why not)? "
   ]
  },
  {
   "cell_type": "code",
   "execution_count": 44,
   "metadata": {},
   "outputs": [],
   "source": [
    "# load data from the excel file here\n",
    "avg = pd.read_csv('data/pentathlon-II-avg.csv')"
   ]
  },
  {
   "cell_type": "code",
   "execution_count": 68,
   "metadata": {},
   "outputs": [],
   "source": [
    "# list your assumptions here\n",
    "n_week_104 = 104\n",
    "time = np.arange(1, n_week + 1)\n",
    "annual_discount_rate = 0.1 \n",
    "week_discount_rate = pow((annual_discount_rate+1), (1/52)) - 1\n",
    "good_cost = 0.6\n",
    "discount_num_104 = np.arange(0.5,104.5,1)"
   ]
  },
  {
   "cell_type": "markdown",
   "metadata": {},
   "source": [
    "Assumption:\n",
    "\n",
    "(1) It’s assumed the beginning of week 1 is our ‘Present’. So for the churn rate, those of subscribed customers and unsubscribed customers for week 1 are 100% and 0% respectively. Also, since the given 'schurn' seems to be average weekly churn rate of subscribed customers, the attrition rate is assumed to be the same in the remaining 103 weeks.\n",
    "\n",
    "(2) For the annual discount rate, it is assumed to be 10%. And since the payment is made during each week, it seems to be more reasonable to use half-one power(eg.:0.5, 1.5, 2.5...) when calculating the present value.\n",
    "\n",
    "[present profit = profit / ((1+week_discount_rate)^ weekly half-one power)]"
   ]
  },
  {
   "cell_type": "code",
   "execution_count": 69,
   "metadata": {},
   "outputs": [],
   "source": [
    "# calculate CLV for each of the 5 e-mail frequencies and combine the result in a dataframe\n",
    "# define a function to avoid repetitive code\n",
    "# note that the function must be defined in a cell above the code that calls the function\n",
    "# or, even better, in a python package https://www.tutorialsteacher.com/python/python-package\n",
    "\n",
    "def CLV1(i, n_week, discount_num):\n",
    "    attrition = np.repeat(avg.schurn[i], n_week)\n",
    "    attrition[0] = 0\n",
    "    avg_rev_sub = np.repeat(avg.rev_sub[i], n_week)\n",
    "    avg_rev_unsub = np.repeat(avg.rev_unsub[i], n_week)\n",
    "    retention_rate = (1 - attrition).cumprod()\n",
    "    rev_sub = avg_rev_sub * retention_rate\n",
    "    rev_unsub = avg_rev_unsub * (1 - retention_rate)\n",
    "    total_revenue = rev_sub + rev_unsub\n",
    "    profit = total_revenue * (1 - good_cost)\n",
    "    p_profit = profit / np.power((1+week_discount_rate), discount_num)\n",
    "    clv = p_profit.cumsum(axis=0)\n",
    "    return clv"
   ]
  },
  {
   "cell_type": "code",
   "execution_count": 73,
   "metadata": {},
   "outputs": [],
   "source": [
    "CLV_104weeks_1 = CLV1(0,n_week_104,discount_num_104)\n",
    "CLV_104weeks_2 = CLV1(1,n_week_104,discount_num_104)\n",
    "CLV_104weeks_3 = CLV1(2,n_week_104,discount_num_104)\n",
    "CLV_104weeks_4 = CLV1(3,n_week_104,discount_num_104)\n",
    "CLV_104weeks_5 = CLV1(4,n_week_104,discount_num_104)"
   ]
  },
  {
   "cell_type": "code",
   "execution_count": 74,
   "metadata": {},
   "outputs": [
    {
     "data": {
      "text/html": [
       "<div>\n",
       "<style scoped>\n",
       "    .dataframe tbody tr th:only-of-type {\n",
       "        vertical-align: middle;\n",
       "    }\n",
       "\n",
       "    .dataframe tbody tr th {\n",
       "        vertical-align: top;\n",
       "    }\n",
       "\n",
       "    .dataframe thead th {\n",
       "        text-align: right;\n",
       "    }\n",
       "</style>\n",
       "<table border=\"1\" class=\"dataframe\">\n",
       "  <thead>\n",
       "    <tr style=\"text-align: right;\">\n",
       "      <th></th>\n",
       "      <th>one_email</th>\n",
       "      <th>two_email</th>\n",
       "      <th>three_email</th>\n",
       "      <th>four_email</th>\n",
       "      <th>five_email</th>\n",
       "    </tr>\n",
       "  </thead>\n",
       "  <tbody>\n",
       "    <tr>\n",
       "      <th>0</th>\n",
       "      <td>0.115895</td>\n",
       "      <td>0.135878</td>\n",
       "      <td>0.142365</td>\n",
       "      <td>0.141933</td>\n",
       "      <td>0.143382</td>\n",
       "    </tr>\n",
       "    <tr>\n",
       "      <th>1</th>\n",
       "      <td>0.231309</td>\n",
       "      <td>0.270974</td>\n",
       "      <td>0.282460</td>\n",
       "      <td>0.280432</td>\n",
       "      <td>0.281429</td>\n",
       "    </tr>\n",
       "    <tr>\n",
       "      <th>2</th>\n",
       "      <td>0.346243</td>\n",
       "      <td>0.405293</td>\n",
       "      <td>0.420339</td>\n",
       "      <td>0.415626</td>\n",
       "      <td>0.414441</td>\n",
       "    </tr>\n",
       "    <tr>\n",
       "      <th>3</th>\n",
       "      <td>0.460701</td>\n",
       "      <td>0.538841</td>\n",
       "      <td>0.556058</td>\n",
       "      <td>0.547637</td>\n",
       "      <td>0.542704</td>\n",
       "    </tr>\n",
       "    <tr>\n",
       "      <th>4</th>\n",
       "      <td>0.574685</td>\n",
       "      <td>0.671624</td>\n",
       "      <td>0.689668</td>\n",
       "      <td>0.676586</td>\n",
       "      <td>0.666486</td>\n",
       "    </tr>\n",
       "    <tr>\n",
       "      <th>...</th>\n",
       "      <td>...</td>\n",
       "      <td>...</td>\n",
       "      <td>...</td>\n",
       "      <td>...</td>\n",
       "      <td>...</td>\n",
       "    </tr>\n",
       "    <tr>\n",
       "      <th>99</th>\n",
       "      <td>9.555871</td>\n",
       "      <td>10.490329</td>\n",
       "      <td>8.340831</td>\n",
       "      <td>7.260058</td>\n",
       "      <td>6.365888</td>\n",
       "    </tr>\n",
       "    <tr>\n",
       "      <th>100</th>\n",
       "      <td>9.633861</td>\n",
       "      <td>10.570305</td>\n",
       "      <td>8.395244</td>\n",
       "      <td>7.307726</td>\n",
       "      <td>6.409727</td>\n",
       "    </tr>\n",
       "    <tr>\n",
       "      <th>101</th>\n",
       "      <td>9.711559</td>\n",
       "      <td>10.649898</td>\n",
       "      <td>8.449406</td>\n",
       "      <td>7.355243</td>\n",
       "      <td>6.453472</td>\n",
       "    </tr>\n",
       "    <tr>\n",
       "      <th>102</th>\n",
       "      <td>9.788966</td>\n",
       "      <td>10.729110</td>\n",
       "      <td>8.503323</td>\n",
       "      <td>7.402612</td>\n",
       "      <td>6.497125</td>\n",
       "    </tr>\n",
       "    <tr>\n",
       "      <th>103</th>\n",
       "      <td>9.866084</td>\n",
       "      <td>10.807943</td>\n",
       "      <td>8.556999</td>\n",
       "      <td>7.449836</td>\n",
       "      <td>6.540685</td>\n",
       "    </tr>\n",
       "  </tbody>\n",
       "</table>\n",
       "<p>104 rows × 5 columns</p>\n",
       "</div>"
      ],
      "text/plain": [
       "     one_email  two_email  three_email  four_email  five_email\n",
       "0     0.115895   0.135878     0.142365    0.141933    0.143382\n",
       "1     0.231309   0.270974     0.282460    0.280432    0.281429\n",
       "2     0.346243   0.405293     0.420339    0.415626    0.414441\n",
       "3     0.460701   0.538841     0.556058    0.547637    0.542704\n",
       "4     0.574685   0.671624     0.689668    0.676586    0.666486\n",
       "..         ...        ...          ...         ...         ...\n",
       "99    9.555871  10.490329     8.340831    7.260058    6.365888\n",
       "100   9.633861  10.570305     8.395244    7.307726    6.409727\n",
       "101   9.711559  10.649898     8.449406    7.355243    6.453472\n",
       "102   9.788966  10.729110     8.503323    7.402612    6.497125\n",
       "103   9.866084  10.807943     8.556999    7.449836    6.540685\n",
       "\n",
       "[104 rows x 5 columns]"
      ]
     },
     "execution_count": 74,
     "metadata": {},
     "output_type": "execute_result"
    }
   ],
   "source": [
    "# create an integrated dataframe\n",
    "CLV_104weeks_all = pd.DataFrame(\n",
    "{    'one_email': CLV_104weeks_1,\n",
    "     'two_email': CLV_104weeks_2,\n",
    "     'three_email': CLV_104weeks_3,\n",
    "     'four_email': CLV_104weeks_4,\n",
    "     'five_email': CLV_104weeks_5,\n",
    "}\n",
    ")\n",
    "CLV_104weeks_all"
   ]
  },
  {
   "cell_type": "code",
   "execution_count": 77,
   "metadata": {},
   "outputs": [
    {
     "data": {
      "text/plain": [
       "Text(0, 0.5, 'CLV per customer')"
      ]
     },
     "execution_count": 77,
     "metadata": {},
     "output_type": "execute_result"
    },
    {
     "data": {
      "image/png": "[encoded data removed]",
      "text/plain": [
       "<Figure size 432x288 with 1 Axes>"
      ]
     },
     "metadata": {
      "needs_background": "light"
     },
     "output_type": "display_data"
    }
   ],
   "source": [
    "# use seaborn to create a line chart that shows CLV over the 104 week period\n",
    "# for each of the 5 email frequencies (i.e., 1 plot with 5 lines)\n",
    "CLV_104weeks_all = CLV_104weeks_all.astype(float)\n",
    "ax =sns.lineplot(data = CLV_104weeks_all)\n",
    "ax.set_title('Graph 2:CLV with different e-mail frequency during 104 weeks',size=13)\n",
    "ax.set_xlabel('Week')\n",
    "ax.set_ylabel('CLV per customer')"
   ]
  },
  {
   "cell_type": "markdown",
   "metadata": {},
   "source": [
    "Are your results consistent with your answer to question 3? Why (or why not)? \n",
    "\n",
    "The result is consistent with Question 3. In a long-term, CLV of 2-email per week frequency is the highest. The reason might be that when using average churn rate to calculate long-term CLV, the average churn rate of 2-email is greatly lower than that of 3-email, but the differences between revenues are not too large. Thus, it seems to be reasonable that the CLV of 2-email frequency is greater than 3-email one in a long-run.\n"
   ]
  },
  {
   "cell_type": "markdown",
   "metadata": {},
   "source": [
    "### Question 5: Limitations\n",
    "\n",
    "Discuss at least two limitations of the experiment. How would you address these limitations?"
   ]
  },
  {
   "cell_type": "markdown",
   "metadata": {},
   "source": [
    "1. In this experiment, Pentathlon only send the email including one of the seven products. If the customers are not interested in this product, it is highly possible to unsubscribe the e-mail. So if Pentathlon change the email contents of different product, the average churn rate may be different from the current one. It might be more helpful to get the average churn rate and find the best email frequency.\n",
    "\n",
    "2. When calculating CLV during 104 weeks, the same subscriber churn rate and average revenue are used for all the weeks. However, it is not clear that whether these merits will change as time goes, or the given data comes from the peak season, which leads to an unreasonable conclusion. It would be ideal for Pentathlon to record data for continuous 104 weeks, which would help improve the accuracy of analysis.\n"
   ]
  }
 ],
 "metadata": {
  "jupytext": {
   "cell_metadata_filter": "-all",
   "main_language": "python",
   "notebook_metadata_filter": "-all"
  },
  "kernelspec": {
   "display_name": "Python 3",
   "language": "python",
   "name": "python3"
  },
  "language_info": {
   "codemirror_mode": {
    "name": "ipython",
    "version": 3
   },
   "file_extension": ".py",
   "mimetype": "text/x-python",
   "name": "python",
   "nbconvert_exporter": "python",
   "pygments_lexer": "ipython3",
   "version": "3.8.5"
  }
 },
 "nbformat": 4,
 "nbformat_minor": 4
}
